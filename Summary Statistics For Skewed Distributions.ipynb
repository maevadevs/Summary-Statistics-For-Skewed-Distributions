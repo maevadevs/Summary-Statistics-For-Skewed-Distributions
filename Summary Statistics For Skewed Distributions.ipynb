{
 "cells": [
  {
   "cell_type": "markdown",
   "metadata": {
    "slideshow": {
     "slide_type": "skip"
    },
    "toc": true
   },
   "source": [
    "<h1>Table of Contents<span class=\"tocSkip\"></span></h1>\n",
    "<div class=\"toc\"><ul class=\"toc-item\"><li><span><a href=\"#Measures-of-Skewness-and-Kurtosis\" data-toc-modified-id=\"Measures-of-Skewness-and-Kurtosis-1\">Measures of Skewness and Kurtosis</a></span><ul class=\"toc-item\"><li><span><a href=\"#Skewness\" data-toc-modified-id=\"Skewness-1.1\">Skewness</a></span></li><li><span><a href=\"#Kurtosis\" data-toc-modified-id=\"Kurtosis-1.2\">Kurtosis</a></span></li></ul></li><li><span><a href=\"#Measure-of-Central-Tendency\" data-toc-modified-id=\"Measure-of-Central-Tendency-2\">Measure of Central Tendency</a></span><ul class=\"toc-item\"><li><span><a href=\"#Mean\" data-toc-modified-id=\"Mean-2.1\">Mean</a></span></li><li><span><a href=\"#Median\" data-toc-modified-id=\"Median-2.2\">Median</a></span></li></ul></li><li><span><a href=\"#Measure-of-Spread/Dispersion\" data-toc-modified-id=\"Measure-of-Spread/Dispersion-3\">Measure of Spread/Dispersion</a></span><ul class=\"toc-item\"><li><span><a href=\"#Range\" data-toc-modified-id=\"Range-3.1\">Range</a></span></li><li><span><a href=\"#Standard-Deviation\" data-toc-modified-id=\"Standard-Deviation-3.2\">Standard Deviation</a></span></li><li><span><a href=\"#Inter-Quartile-Range-(IQR)\" data-toc-modified-id=\"Inter-Quartile-Range-(IQR)-3.3\">Inter-Quartile Range (IQR)</a></span><ul class=\"toc-item\"><li><span><a href=\"#Inter-Quantiles/Percentiles-Range\" data-toc-modified-id=\"Inter-Quantiles/Percentiles-Range-3.3.1\">Inter-Quantiles/Percentiles Range</a></span></li></ul></li></ul></li><li><span><a href=\"#What-happen-if-we-apply-summary-statistics-for-normal-distributions-on-skewed-distributions?\" data-toc-modified-id=\"What-happen-if-we-apply-summary-statistics-for-normal-distributions-on-skewed-distributions?-4\">What happen if we apply summary statistics for normal distributions on skewed distributions?</a></span></li><li><span><a href=\"#Applying-Correct-Summary-Statistics-of-Skewed-Distribtions\" data-toc-modified-id=\"Applying-Correct-Summary-Statistics-of-Skewed-Distribtions-5\">Applying Correct Summary Statistics of Skewed Distribtions</a></span><ul class=\"toc-item\"><li><span><a href=\"#Measuring-the-Skewness-and-Kurtosis\" data-toc-modified-id=\"Measuring-the-Skewness-and-Kurtosis-5.1\">Measuring the Skewness and Kurtosis</a></span></li><li><span><a href=\"#Centrality-and-Spread\" data-toc-modified-id=\"Centrality-and-Spread-5.2\">Centrality and Spread</a></span></li><li><span><a href=\"#ECDF\" data-toc-modified-id=\"ECDF-5.3\">ECDF</a></span></li></ul></li><li><span><a href=\"#Log-Tansformation\" data-toc-modified-id=\"Log-Tansformation-6\">Log Tansformation</a></span></li><li><span><a href=\"#Helpful-Resource\" data-toc-modified-id=\"Helpful-Resource-7\">Helpful Resource</a></span></li><li><span><a href=\"#Lab-Area\" data-toc-modified-id=\"Lab-Area-8\">Lab Area</a></span></li></ul></div>"
   ]
  },
  {
   "cell_type": "markdown",
   "metadata": {
    "slideshow": {
     "slide_type": "slide"
    }
   },
   "source": [
    "# Summary Statistics For Skewed Distributions\n",
    "\n",
    "Presented by Maeva R."
   ]
  },
  {
   "cell_type": "code",
   "execution_count": 1,
   "metadata": {
    "slideshow": {
     "slide_type": "skip"
    }
   },
   "outputs": [],
   "source": [
    "import numpy as np\n",
    "import seaborn as sns\n",
    "import pandas as pd\n",
    "import matplotlib.pyplot as plt\n",
    "\n",
    "from scipy.stats import skew, kurtosis\n",
    "import ipywidgets as widgets\n",
    "from ipywidgets import interact, fixed\n",
    "\n",
    "sns.set()"
   ]
  },
  {
   "cell_type": "markdown",
   "metadata": {
    "slideshow": {
     "slide_type": "subslide"
    }
   },
   "source": [
    "Two main things we look for in summary statistics:\n",
    "- Measure of Central Tendency\n",
    "- Measure of Spread/Dispersion\n",
    "\n",
    "Additionally for Skewed Distributions:\n",
    "- Measure of Skewness and Kurtosis"
   ]
  },
  {
   "cell_type": "markdown",
   "metadata": {
    "slideshow": {
     "slide_type": "slide"
    }
   },
   "source": [
    "## Measures of Skewness and Kurtosis"
   ]
  },
  {
   "cell_type": "markdown",
   "metadata": {
    "slideshow": {
     "slide_type": "subslide"
    }
   },
   "source": [
    "### Skewness\n",
    "\n",
    "*Skewness* is a measure of symmetry or the lack of symmetry\n",
    "\n",
    "- Skewness for a normal distribution = 0\n",
    "- Negative Skewness = Skewed to the left = Long tail on the left\n",
    "- Positive Skewness = Skewed to the right = Long tail on the right"
   ]
  },
  {
   "cell_type": "markdown",
   "metadata": {
    "slideshow": {
     "slide_type": "subslide"
    }
   },
   "source": [
    "### Kurtosis\n",
    "\n",
    "*Kurtosis* is a measure of whether the dataset is heavy-tailed or light-tailed relative to a normal distribution\n",
    "  - Kurtosis for a normal distribution = 0\n",
    "  - High Kurtosis = Long Tail = Possible presence of outliers\n",
    "  - Low Kurtosis = No tail = Closer to normal distribution"
   ]
  },
  {
   "cell_type": "markdown",
   "metadata": {
    "slideshow": {
     "slide_type": "slide"
    }
   },
   "source": [
    "## Measure of Central Tendency\n",
    "\n",
    "- Mean vs Median"
   ]
  },
  {
   "cell_type": "markdown",
   "metadata": {
    "slideshow": {
     "slide_type": "subslide"
    }
   },
   "source": [
    "### Mean\n",
    "\n",
    "- Our favorite *Go-to* for summarizing the dataset center\n",
    "- *What is the Average/Typical values?*\n",
    "- The *Center of Gravity* or *Balance Point* of the dataset, assuming each data point have the same **weight**\n",
    "- Strength: Best for Normal, Close-to-Normal, or Flat distributions\n",
    "- <span class=\"mark\">**Weakness: Easily impacted by Skeweness and Outliers**</span>\n",
    "- <span class=\"mark\">**Not best for skewed distributions**</span>"
   ]
  },
  {
   "cell_type": "markdown",
   "metadata": {
    "slideshow": {
     "slide_type": "subslide"
    }
   },
   "source": [
    "<img src='./figures/mean.png' />"
   ]
  },
  {
   "cell_type": "markdown",
   "metadata": {
    "slideshow": {
     "slide_type": "subslide"
    }
   },
   "source": [
    "### Median\n",
    "\n",
    "- *What is the Middle of this distribution if weights are not considered?*\n",
    "- Disregard the weight of each data element\n",
    "- Not a balancing point, but a dividing point so that we have equal subset\n",
    "- <span class=\"mark\">**Strength: Not much impacted by Skeweness or Outliers**</span>\n",
    "- <span class=\"mark\">**Preference for Central Tendency for Skewed Distributions**</span>"
   ]
  },
  {
   "cell_type": "markdown",
   "metadata": {
    "slideshow": {
     "slide_type": "slide"
    }
   },
   "source": [
    "## Measure of Spread/Dispersion\n",
    "\n",
    "- Range & Standard Deviation vs IQR"
   ]
  },
  {
   "cell_type": "markdown",
   "metadata": {
    "slideshow": {
     "slide_type": "subslide"
    }
   },
   "source": [
    "### Range\n",
    "\n",
    "- The distance between the Max and the Min values in a dataset\n",
    "- <span class=\"mark\">**Weakness: Heavily affected by Outliers**</span>\n",
    "- <span class=\"mark\">**Not best for skewed distributions with outliers**</span>"
   ]
  },
  {
   "cell_type": "markdown",
   "metadata": {
    "slideshow": {
     "slide_type": "subslide"
    }
   },
   "source": [
    "### Standard Deviation\n",
    "\n",
    "- *What is the Average/Typical spread of the data from the Mean?*\n",
    "- *How close to the Mean are the data on average?*\n",
    "- Strength: Best for Normal, Close-to-Normal, or Flat distributions\n",
    "- <span class=\"mark\">**Weakness: Can over-qualify or under-qualify skewed distributions**</span>\n",
    "- <span class=\"mark\">**Not best for skewed distributions**</span>"
   ]
  },
  {
   "cell_type": "markdown",
   "metadata": {
    "slideshow": {
     "slide_type": "subslide"
    }
   },
   "source": [
    "### Inter-Quartile Range (IQR)\n",
    "\n",
    "- Another option that is used to summarize dispersion\n",
    "- The range between the 1st and the 3rd quartile: Keep the 50% in the middle\n",
    "- <span class=\"mark\">**Strength: Not much impacted by Skeweness or Outliers**</span>\n",
    "- <span class=\"mark\">**Weakness: Could eliminate half of the data**</span>\n",
    "- <span class=\"mark\">**Good for Dispersion for Skewed Distributions**</span>"
   ]
  },
  {
   "cell_type": "markdown",
   "metadata": {
    "slideshow": {
     "slide_type": "subslide"
    }
   },
   "source": [
    "#### Inter-Quantiles/Percentiles Range\n",
    "- Customized IQR: Normal *Inter-Quartile Range* is fixed on the 1st and 3rd quartile. Could eliminate half the data.\n",
    "- If our goal is just to eliminate outliers, we could be more specific with *Inter-Quantiles*\n",
    "- E.g. Keep the 90% in the middle => Range between the 5th and the 95th quantiles\n",
    "- <span class=\"mark\">**Strengths: Not much impacted by Skeweness or Outliers. And customizable.**</span>\n",
    "- <span class=\"mark\">**Good for Dispersion for Skewed Distributions**</span>"
   ]
  },
  {
   "cell_type": "markdown",
   "metadata": {
    "slideshow": {
     "slide_type": "skip"
    }
   },
   "source": [
    "*The standard deviation is one particular measure of the variation. There are several others, Mean Absolute Deviation is fairly popular. The standard deviation is by no means special. What makes it appear special is that the Gaussian distribution is special.* -- Stackoverflow."
   ]
  },
  {
   "cell_type": "markdown",
   "metadata": {
    "slideshow": {
     "slide_type": "skip"
    }
   },
   "source": [
    "*For a normal distribution, the standard deviation is a very appropriate measure of variability (or spread) of the distribution. (Indeed, if you know a distribution is normal, then knowing its mean and standard deviation tells you exactly which normal distribution you have.) But for skewed distributions, the standard deviation gives no information on the asymmetry. It is better to use the first and third quartiles, since these will give some sense of the asymmetry of the distribution.* [Source](https://web.ma.utexas.edu/users/mks/statmistakes/skeweddistributions.html#:~:text=Measures%20of%20Spread&text=But%20for%20skewed%20distributions%2C%20the,the%20asymmetry%20of%20the%20distribution.)"
   ]
  },
  {
   "cell_type": "code",
   "execution_count": 2,
   "metadata": {
    "slideshow": {
     "slide_type": "skip"
    }
   },
   "outputs": [],
   "source": [
    "def plot_comparison_histograms(data, std_mult=1):\n",
    "    \"\"\"Plot the data into two histogram: One showing the central tendencies and one showing the spread around the mean\"\"\"\n",
    "    \n",
    "    # mean and std\n",
    "    mean = np.mean(data)\n",
    "    median = np.median(data)\n",
    "    std = np.std(data, ddof=1)\n",
    "        \n",
    "    # Draw centrality and spread graphs next to each other\n",
    "    fig, ax = plt.subplots(1, 2, figsize=(15,6))\n",
    "    \n",
    "    # First Histogram\n",
    "    bins = int(np.sqrt(len(data)))\n",
    "    f1 = sns.distplot(data, bins=bins, kde=True, ax=ax[0])\n",
    "    # Draw the Mean line\n",
    "    mean_line_1 = ax[0].axvline(mean, color='blue', linewidth=2, linestyle='--')\n",
    "    #mean_label_1 = ax[0].text(mean+0.05, 0.05, 'Mean', fontsize=14, color='blue', rotation=90)\n",
    "    # Draw the Median line\n",
    "    median_line = ax[0].axvline(median, color='green', linewidth=4, linestyle=':')\n",
    "    #median_label = ax[0].text(median-0.4, 0.1, 'Median', fontsize=14, color='green', rotation=90)\n",
    "    # Adding some labels\n",
    "    ax[0].set_title('Distribution -- Central Tendencies')\n",
    "    ax[0].set_xlabel('Data')\n",
    "    ax[0].set_ylabel('Proportion')\n",
    "    \n",
    "    # Second Histogram    \n",
    "    bins = int(np.sqrt(len(data)))\n",
    "    f1 = sns.distplot(data, bins=bins, kde=True, ax=ax[1])\n",
    "    # Draw the Mean line\n",
    "    mean_line_2 = ax[1].axvline(mean, color='blue', linewidth=3, linestyle='--')\n",
    "    #mean_label_2 = ax[1].text(mean+0.05, 0.05, 'Mean', fontsize=14, color='blue', rotation=90)\n",
    "\n",
    "    # Draw the Standard Deviation * Std_multiplier Range overlay\n",
    "    ax[1].axvspan(mean-std*std_mult, mean+std*std_mult, alpha=0.2, color='green')\n",
    "    # Draw the 2-Standard Deviation Range overlay\n",
    "    #ax[1].axvspan(mean-2*std, mean-std, alpha=0.2, color='yellow')\n",
    "    #ax[1].axvspan(mean+std, mean+2*std, alpha=0.2, color='yellow')\n",
    "    # Draw the 3-Standard Deviation Range overlay\n",
    "    #ax[1].axvspan(mean-3*std, mean-2*std, alpha=0.2, color='green')\n",
    "    #ax[1].axvspan(mean+2*std, mean+3*std, alpha=0.2, color='green')\n",
    "    \n",
    "    # Adding common labels\n",
    "    ax[1].set_title('Distribution -- Standard Deviation')\n",
    "    ax[1].set_xlabel('Data')\n",
    "    ax[1].set_ylabel('Proportion')"
   ]
  },
  {
   "cell_type": "code",
   "execution_count": 3,
   "metadata": {
    "slideshow": {
     "slide_type": "skip"
    }
   },
   "outputs": [],
   "source": [
    "def plot_random_normal_distribution(n, std_dev):\n",
    "    \"\"\"Generate random n number of data that follows a normal distibution and plot it on the comparison histogram graphs\"\"\"\n",
    "    \n",
    "    # Generate data\n",
    "    data = np.random.normal(size=n)\n",
    "    \n",
    "    # Plot comparison graphs\n",
    "    plot_comparison_histograms(data, std_dev);"
   ]
  },
  {
   "cell_type": "code",
   "execution_count": 4,
   "metadata": {
    "slideshow": {
     "slide_type": "subslide"
    }
   },
   "outputs": [
    {
     "data": {
      "application/vnd.jupyter.widget-view+json": {
       "model_id": "30c8022b63514220a8ae0536b794ad01",
       "version_major": 2,
       "version_minor": 0
      },
      "text/plain": [
       "interactive(children=(IntSlider(value=100, description='n', max=1000, min=2, step=10), FloatSlider(value=1.0, …"
      ]
     },
     "metadata": {},
     "output_type": "display_data"
    }
   ],
   "source": [
    "# Plot a random normal distribution with interaction\n",
    "interact(plot_random_normal_distribution, n = widgets.IntSlider(min=2, max=1000, step=10, value=100), std_dev = widgets.FloatSlider(min=0, max=4.0, step=0.1, value=1.0));"
   ]
  },
  {
   "cell_type": "markdown",
   "metadata": {
    "slideshow": {
     "slide_type": "slide"
    }
   },
   "source": [
    "## What happen if we apply summary statistics for normal distributions on skewed distributions?"
   ]
  },
  {
   "cell_type": "markdown",
   "metadata": {
    "slideshow": {
     "slide_type": "fragment"
    }
   },
   "source": [
    "Professional sport salaries are a good example of right-skewed data sets. Let's look at the salaries of NBA players."
   ]
  },
  {
   "cell_type": "code",
   "execution_count": 5,
   "metadata": {
    "slideshow": {
     "slide_type": "subslide"
    }
   },
   "outputs": [
    {
     "data": {
      "text/html": [
       "<div>\n",
       "<style scoped>\n",
       "    .dataframe tbody tr th:only-of-type {\n",
       "        vertical-align: middle;\n",
       "    }\n",
       "\n",
       "    .dataframe tbody tr th {\n",
       "        vertical-align: top;\n",
       "    }\n",
       "\n",
       "    .dataframe thead th {\n",
       "        text-align: right;\n",
       "    }\n",
       "</style>\n",
       "<table border=\"1\" class=\"dataframe\">\n",
       "  <thead>\n",
       "    <tr style=\"text-align: right;\">\n",
       "      <th></th>\n",
       "      <th>league</th>\n",
       "      <th>player_id</th>\n",
       "      <th>salary</th>\n",
       "      <th>season</th>\n",
       "      <th>season_end</th>\n",
       "      <th>season_start</th>\n",
       "      <th>team</th>\n",
       "    </tr>\n",
       "  </thead>\n",
       "  <tbody>\n",
       "    <tr>\n",
       "      <th>0</th>\n",
       "      <td>NBA</td>\n",
       "      <td>abdelal01</td>\n",
       "      <td>395000</td>\n",
       "      <td>1990-91</td>\n",
       "      <td>1991</td>\n",
       "      <td>1990</td>\n",
       "      <td>Portland Trail Blazers</td>\n",
       "    </tr>\n",
       "    <tr>\n",
       "      <th>1</th>\n",
       "      <td>NBA</td>\n",
       "      <td>abdelal01</td>\n",
       "      <td>494000</td>\n",
       "      <td>1991-92</td>\n",
       "      <td>1992</td>\n",
       "      <td>1991</td>\n",
       "      <td>Portland Trail Blazers</td>\n",
       "    </tr>\n",
       "    <tr>\n",
       "      <th>2</th>\n",
       "      <td>NBA</td>\n",
       "      <td>abdelal01</td>\n",
       "      <td>500000</td>\n",
       "      <td>1992-93</td>\n",
       "      <td>1993</td>\n",
       "      <td>1992</td>\n",
       "      <td>Boston Celtics</td>\n",
       "    </tr>\n",
       "    <tr>\n",
       "      <th>3</th>\n",
       "      <td>NBA</td>\n",
       "      <td>abdelal01</td>\n",
       "      <td>805000</td>\n",
       "      <td>1993-94</td>\n",
       "      <td>1994</td>\n",
       "      <td>1993</td>\n",
       "      <td>Boston Celtics</td>\n",
       "    </tr>\n",
       "    <tr>\n",
       "      <th>4</th>\n",
       "      <td>NBA</td>\n",
       "      <td>abdelal01</td>\n",
       "      <td>650000</td>\n",
       "      <td>1994-95</td>\n",
       "      <td>1995</td>\n",
       "      <td>1994</td>\n",
       "      <td>Sacramento Kings</td>\n",
       "    </tr>\n",
       "  </tbody>\n",
       "</table>\n",
       "</div>"
      ],
      "text/plain": [
       "  league  player_id  salary   season  season_end  season_start  \\\n",
       "0    NBA  abdelal01  395000  1990-91        1991          1990   \n",
       "1    NBA  abdelal01  494000  1991-92        1992          1991   \n",
       "2    NBA  abdelal01  500000  1992-93        1993          1992   \n",
       "3    NBA  abdelal01  805000  1993-94        1994          1993   \n",
       "4    NBA  abdelal01  650000  1994-95        1995          1994   \n",
       "\n",
       "                     team  \n",
       "0  Portland Trail Blazers  \n",
       "1  Portland Trail Blazers  \n",
       "2          Boston Celtics  \n",
       "3          Boston Celtics  \n",
       "4        Sacramento Kings  "
      ]
     },
     "execution_count": 5,
     "metadata": {},
     "output_type": "execute_result"
    }
   ],
   "source": [
    "nba_salary = pd.read_csv('./data/nba-salaries-1985-2018.csv') # https://data.world/datadavis/nba-salaries\n",
    "nba_salary.head()"
   ]
  },
  {
   "cell_type": "code",
   "execution_count": 6,
   "metadata": {
    "slideshow": {
     "slide_type": "skip"
    }
   },
   "outputs": [],
   "source": [
    "def plot_data_histograms(df, column, std_dev=1):\n",
    "    \"\"\"Plot a column of data from a dataset on the comparison histogram graph\"\"\"\n",
    "    \n",
    "    # Get the salary data\n",
    "    data = np.array(df[column])\n",
    "    \n",
    "    # Plot comparison graphs\n",
    "    plot_comparison_histograms(data, std_dev)"
   ]
  },
  {
   "cell_type": "code",
   "execution_count": 7,
   "metadata": {
    "slideshow": {
     "slide_type": "subslide"
    }
   },
   "outputs": [
    {
     "data": {
      "application/vnd.jupyter.widget-view+json": {
       "model_id": "916e45c994354086b0da601f8c3c607b",
       "version_major": 2,
       "version_minor": 0
      },
      "text/plain": [
       "interactive(children=(FloatSlider(value=1.0, description='std_dev', max=4.0), Output()), _dom_classes=('widget…"
      ]
     },
     "metadata": {},
     "output_type": "display_data"
    }
   ],
   "source": [
    "# Plot the data\n",
    "interact(plot_data_histograms, df = fixed(nba_salary), column = fixed('salary'), std_dev = widgets.FloatSlider(min=0, max=4.0, step=0.1, value=1.0));"
   ]
  },
  {
   "cell_type": "markdown",
   "metadata": {
    "slideshow": {
     "slide_type": "slide"
    }
   },
   "source": [
    "## Applying Correct Summary Statistics of Skewed Distribtions"
   ]
  },
  {
   "cell_type": "markdown",
   "metadata": {
    "slideshow": {
     "slide_type": "slide"
    }
   },
   "source": [
    "### Measuring the Skewness and Kurtosis"
   ]
  },
  {
   "cell_type": "code",
   "execution_count": 8,
   "metadata": {
    "slideshow": {
     "slide_type": "subslide"
    }
   },
   "outputs": [
    {
     "data": {
      "text/plain": [
       "2.464157813783152"
      ]
     },
     "execution_count": 8,
     "metadata": {},
     "output_type": "execute_result"
    }
   ],
   "source": [
    "skew(nba_salary['salary']) # scipy.stats.skew()"
   ]
  },
  {
   "cell_type": "markdown",
   "metadata": {
    "slideshow": {
     "slide_type": "fragment"
    }
   },
   "source": [
    "Positive Skewness = Skewed to the right = Long tail on the right"
   ]
  },
  {
   "cell_type": "code",
   "execution_count": 9,
   "metadata": {
    "slideshow": {
     "slide_type": "subslide"
    }
   },
   "outputs": [
    {
     "data": {
      "text/plain": [
       "7.15750403551043"
      ]
     },
     "execution_count": 9,
     "metadata": {},
     "output_type": "execute_result"
    }
   ],
   "source": [
    "kurtosis(nba_salary['salary']) # scipy.stats.kurtosis()"
   ]
  },
  {
   "cell_type": "markdown",
   "metadata": {
    "slideshow": {
     "slide_type": "fragment"
    }
   },
   "source": [
    "High Kurtosis = Long Tail = Possible presence of outliers"
   ]
  },
  {
   "cell_type": "markdown",
   "metadata": {
    "slideshow": {
     "slide_type": "slide"
    }
   },
   "source": [
    "### Centrality and Spread"
   ]
  },
  {
   "cell_type": "markdown",
   "metadata": {
    "slideshow": {
     "slide_type": "fragment"
    }
   },
   "source": [
    "The correct summary statistics for skewed distributions are:\n",
    "- **Median** for *Measure of Central Tendency* and\n",
    "- **IQR** for *Measure of Spread*"
   ]
  },
  {
   "cell_type": "markdown",
   "metadata": {
    "slideshow": {
     "slide_type": "subslide"
    }
   },
   "source": [
    "### ECDF"
   ]
  },
  {
   "cell_type": "markdown",
   "metadata": {
    "slideshow": {
     "slide_type": "fragment"
    }
   },
   "source": [
    "*ECDF* stands for *Empirical-Cumulative Distribution Function*.\n",
    "- Plotting of all the quantiles/percentiles data-points in their sorted order\n",
    "- The *x-axis* has the sorted data\n",
    "- The *y-axis* between 0 and 1 for quantile (or 0 and 100 for percentile) is the proportion matching the *x-values*\n",
    "- **The x data-point matching at the 50th percentile of the y-axis is the Median** "
   ]
  },
  {
   "cell_type": "code",
   "execution_count": 10,
   "metadata": {
    "slideshow": {
     "slide_type": "skip"
    }
   },
   "outputs": [],
   "source": [
    "def plot_ecdf(data, iqr, x_label='x data', y_label=\"y data\"):\n",
    "    \"\"\"Compute and plot ECDF for a one-dimensional array of measurements.\"\"\"\n",
    "    \n",
    "    # Statistics\n",
    "    median = np.median(data)\n",
    "    mean = np.mean(data)\n",
    "    print('Median:', median)\n",
    "    print('Mean:', mean)\n",
    "    \n",
    "    # Number of data points: n\n",
    "    n = len(data)\n",
    "\n",
    "    # x-data for the ECDF: the sorted data\n",
    "    y = np.sort(data)\n",
    "\n",
    "    # y-data for the ECDF: go from 1/n to 1 in equally spaced increments\n",
    "    x = np.arange(1, n+1) / n\n",
    "\n",
    "    # Plotting\n",
    "    fig, ax = plt.subplots(1, 1, figsize=(15,6))\n",
    "    plt.scatter(x, y)\n",
    "    \n",
    "    # Draw the Median line\n",
    "    median_v = 0.5\n",
    "    median_vline = ax.axvline(0.5, color='green', linewidth=4, linestyle=':')\n",
    "    median_hline = ax.axhline(median, color='green', linewidth=2, linestyle=':')\n",
    "    \n",
    "    # Draw the Mean line\n",
    "#     mean_hline = ax.axhline(mean, color='blue', linewidth=2, linestyle=':')\n",
    "    \n",
    "    # Draw the IQR Range overlay\n",
    "    ax.axvspan(median_v-iqr/2, median_v+iqr/2, alpha=0.2, color='purple')\n",
    "\n",
    "    # Labels\n",
    "    plt.xlabel(x_label)\n",
    "    plt.ylabel(y_label)\n",
    "\n",
    "    # Keep data off plot edge\n",
    "    # plt.margins(0.1)\n",
    "\n",
    "    plt.show()"
   ]
  },
  {
   "cell_type": "code",
   "execution_count": 11,
   "metadata": {
    "scrolled": false,
    "slideshow": {
     "slide_type": "slide"
    }
   },
   "outputs": [
    {
     "data": {
      "application/vnd.jupyter.widget-view+json": {
       "model_id": "77d726bc2ce7498aa7dc3217da3c98a1",
       "version_major": 2,
       "version_minor": 0
      },
      "text/plain": [
       "interactive(children=(FloatSlider(value=0.5, description='iqr', max=1.0, min=0.01, step=0.01), Output()), _dom…"
      ]
     },
     "metadata": {},
     "output_type": "display_data"
    }
   ],
   "source": [
    "# Plot the data using Inter-Quantile Ranges\n",
    "interact(plot_ecdf, data=fixed(nba_salary['salary']), iqr = widgets.FloatSlider(min=0.01, max=1, step=0.01, value=0.5), x_label=fixed(\"Percentile\"), y_label=fixed(\"NBA Player Salary\"));"
   ]
  },
  {
   "cell_type": "markdown",
   "metadata": {
    "slideshow": {
     "slide_type": "slide"
    }
   },
   "source": [
    "## Log Tansformation"
   ]
  },
  {
   "cell_type": "markdown",
   "metadata": {
    "slideshow": {
     "slide_type": "subslide"
    }
   },
   "source": [
    "- The log transformation can be used to make highly skewed distributions less skewed\n",
    "- This can be valuable both for making patterns in the data more interpretable and for helping to meet the assumptions of inferential statistics"
   ]
  },
  {
   "cell_type": "code",
   "execution_count": 12,
   "metadata": {
    "slideshow": {
     "slide_type": "subslide"
    }
   },
   "outputs": [
    {
     "data": {
      "image/png": "[encoded data removed]",
      "text/plain": [
       "<Figure size 1080x432 with 2 Axes>"
      ]
     },
     "metadata": {},
     "output_type": "display_data"
    }
   ],
   "source": [
    "nba_salary_log = np.log(nba_salary['salary'])\n",
    "# Plot the data\n",
    "plot_comparison_histograms(nba_salary_log)"
   ]
  },
  {
   "cell_type": "markdown",
   "metadata": {
    "slideshow": {
     "slide_type": "slide"
    }
   },
   "source": [
    "## Helpful Resource\n",
    "\n",
    "- [Common Mistakes In Using Statistics](https://web.ma.utexas.edu/users/mks/statmistakes/skeweddistributions.html)\n",
    "- [Skewness and Kurtosis](https://www.itl.nist.gov/div898/handbook/eda/section3/eda35b.htm)\n",
    "- [Online Stat Book](http://onlinestatbook.com/2/transformations/log.html#:~:text=The%20log%20transformation%20can%20be,can%20make%20patterns%20more%20visible.)"
   ]
  },
  {
   "cell_type": "markdown",
   "metadata": {
    "slideshow": {
     "slide_type": "slide"
    }
   },
   "source": [
    "# End\n",
    "---"
   ]
  },
  {
   "cell_type": "markdown",
   "metadata": {
    "slideshow": {
     "slide_type": "skip"
    }
   },
   "source": [
    "## Lab Area"
   ]
  },
  {
   "cell_type": "markdown",
   "metadata": {
    "slideshow": {
     "slide_type": "skip"
    }
   },
   "source": [
    "Here are some other examples where we generate some randomly skewed data"
   ]
  },
  {
   "cell_type": "code",
   "execution_count": 13,
   "metadata": {
    "slideshow": {
     "slide_type": "skip"
    }
   },
   "outputs": [],
   "source": [
    "from scipy.stats import skewnorm\n",
    "from scipy.stats import median_abs_deviation as mad"
   ]
  },
  {
   "cell_type": "code",
   "execution_count": 14,
   "metadata": {
    "slideshow": {
     "slide_type": "skip"
    }
   },
   "outputs": [],
   "source": [
    "def plot_random_skewed_distribution(n, mode, skewness):\n",
    "    \"\"\"Generate random n number of data that follows a normal or skewed distibution and plot it on the graph\"\"\"\n",
    "    \n",
    "    # Generate data\n",
    "    data = skewnorm.rvs(a=skewness,loc=mode, size=n) # Skewnorm function\n",
    "    \n",
    "    # Plot comparison graphs\n",
    "    plot_comparison_histograms(data)\n",
    "    \n",
    "    # Print Mean and Median\n",
    "    print('Mean:', np.mean(data))\n",
    "    print('Median:', np.median(data))"
   ]
  },
  {
   "cell_type": "code",
   "execution_count": 15,
   "metadata": {
    "slideshow": {
     "slide_type": "skip"
    }
   },
   "outputs": [
    {
     "data": {
      "application/vnd.jupyter.widget-view+json": {
       "model_id": "f883c47574ff4eca92a05cb8bbd8acf8",
       "version_major": 2,
       "version_minor": 0
      },
      "text/plain": [
       "interactive(children=(IntSlider(value=30, description='n', max=200, min=2), IntSlider(value=500, description='…"
      ]
     },
     "metadata": {},
     "output_type": "display_data"
    }
   ],
   "source": [
    "# Plot a random normal distribution with interaction\n",
    "interact(\n",
    "    plot_random_skewed_distribution, \n",
    "    n = widgets.IntSlider(min=2, max=200, step=1, value=30), \n",
    "    mode = widgets.IntSlider(min=1, max=1000, step=100, value=500),\n",
    "    skewness = widgets.IntSlider(min=-9999, max=9999, step=1000, value=0)\n",
    ");"
   ]
  },
  {
   "cell_type": "markdown",
   "metadata": {
    "slideshow": {
     "slide_type": "skip"
    }
   },
   "source": [
    "Another random generation of skewed dataset"
   ]
  },
  {
   "cell_type": "code",
   "execution_count": 16,
   "metadata": {
    "slideshow": {
     "slide_type": "skip"
    }
   },
   "outputs": [
    {
     "data": {
      "image/png": "[encoded data removed]",
      "text/plain": [
       "<Figure size 1080x432 with 2 Axes>"
      ]
     },
     "metadata": {},
     "output_type": "display_data"
    }
   ],
   "source": [
    "# Random Right-Skewed Distribution: https://rechneronline.de/random-numbers/\n",
    "raw_data = \"14 30 343 956 8 472 15 724 11 127 76 14 794 176 26 14 367 88 9 23 265 23 387 627 5 484 336 289 42 347 721 741 876 220 58 150 824 960 286 44 222 147 412 36 0 887 12 721 799 341 67 1 526 0 49 160 728 925 426 974 621 56 6 292 9 42 887 18 212 783 743 255 78 8 669 263 417 560 127 136 812 130 187 10 939 729 78 110 60 508 823 960 18 456 251 45 20 396 59 7\"\n",
    "data = np.array([int(el) for el in raw_data.split(\" \")])\n",
    "plot_comparison_histograms(data)"
   ]
  },
  {
   "cell_type": "code",
   "execution_count": 17,
   "metadata": {
    "slideshow": {
     "slide_type": "skip"
    }
   },
   "outputs": [
    {
     "data": {
      "image/png": "[encoded data removed]",
      "text/plain": [
       "<Figure size 1080x432 with 2 Axes>"
      ]
     },
     "metadata": {},
     "output_type": "display_data"
    }
   ],
   "source": [
    "# Random Left-Skewed Distribution: https://rechneronline.de/random-numbers/\n",
    "raw_data = \"859 402 872 360 909 544 308 817 873 635 755 998 941 636 596 0 105 982 759 236 655 84 262 659 930 847 20 377 538 781 772 819 311 652 509 90 122 956 833 621 930 998 434 219 416 995 331 800 946 973 988 664 838 946 819 511 840 390 71 743 911 341 350 16 729 993 853 791 604 366 991 961 67 997 991 870 956 92 857 995 732 934 930 276 931 751 581 612 673 992 224 940 976 922 597 674 975 923 975 627\"\n",
    "data = np.array([int(el) for el in raw_data.split(\" \")])\n",
    "plot_comparison_histograms(data)"
   ]
  }
 ],
 "metadata": {
  "celltoolbar": "Slideshow",
  "kernelspec": {
   "display_name": "Python 3",
   "language": "python",
   "name": "python3"
  },
  "language_info": {
   "codemirror_mode": {
    "name": "ipython",
    "version": 3
   },
   "file_extension": ".py",
   "mimetype": "text/x-python",
   "name": "python",
   "nbconvert_exporter": "python",
   "pygments_lexer": "ipython3",
   "version": "3.8.5"
  },
  "toc": {
   "base_numbering": 1,
   "nav_menu": {},
   "number_sections": false,
   "sideBar": true,
   "skip_h1_title": true,
   "title_cell": "Table of Contents",
   "title_sidebar": "Contents",
   "toc_cell": true,
   "toc_position": {},
   "toc_section_display": true,
   "toc_window_display": false
  }
 },
 "nbformat": 4,
 "nbformat_minor": 4
}
